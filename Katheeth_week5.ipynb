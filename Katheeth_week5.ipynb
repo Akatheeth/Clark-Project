{
  "nbformat": 4,
  "nbformat_minor": 0,
  "metadata": {
    "kernelspec": {
      "display_name": "Python 3",
      "language": "python",
      "name": "python3"
    },
    "language_info": {
      "codemirror_mode": {
        "name": "ipython",
        "version": 3
      },
      "file_extension": ".py",
      "mimetype": "text/x-python",
      "name": "python",
      "nbconvert_exporter": "python",
      "pygments_lexer": "ipython3",
      "version": "3.8.3"
    },
    "colab": {
      "name": "Katheeth_week5.ipynb",
      "provenance": []
    }
  },
  "cells": [
    {
      "cell_type": "markdown",
      "metadata": {
        "id": "EZEvssqH1w9T"
      },
      "source": [
        "# SECTION 1 & 2\n",
        "\n",
        "\n"
      ]
    },
    {
      "cell_type": "code",
      "metadata": {
        "id": "XKVW6ZH71oqC"
      },
      "source": [
        "import numpy as np \n",
        "import matplotlib.pyplot as plt\n",
        "import requests\n",
        "import csv"
      ],
      "execution_count": 18,
      "outputs": []
    },
    {
      "cell_type": "code",
      "metadata": {
        "id": "ClZ73EgQ1oqI"
      },
      "source": [
        "def get_inputANDoutput(csv_url):\n",
        "    inputFromFile = requests.get(csv_url)\n",
        "    \n",
        "    #Write and store the file contents as inputsANDoutputs.csv\n",
        "    with open('inputsANDoutputs.csv',\"wb\") as csv_file:\n",
        "        csv_file.write(inputFromFile.content)\n",
        "\n",
        "    #Create a list of dictionaries using the entries in the csv file\n",
        "    #and store it in the list named data\n",
        "    data = []\n",
        "    with open('inputsANDoutputs.csv') as csvfile:\n",
        "        reader = csv.DictReader(csvfile)\n",
        "        data = [row for row in reader]\n",
        "        \n",
        "    #Creating two empty lists for input and out put \n",
        "    input_frmFile = []\n",
        "    output_frmFile =[]\n",
        "\n",
        "    #Loop through the list of dictionaries\n",
        "    for d in data:\n",
        "        inner_input_list = []\n",
        "        inner_output_list = []\n",
        "        for k in d.keys():\n",
        "            if k.lower() != 'output':\n",
        "                #If the key (header) is not output,\n",
        "                #then extract and store it to the input\n",
        "                inner_input_list.append(int(d[k]))\n",
        "            else:\n",
        "                #If the key (header) is output,\n",
        "                #then extract and store it to the output\n",
        "                inner_output_list.append(int(d[k]))\n",
        "            \n",
        "        input_frmFile.append(inner_input_list)\n",
        "        output_frmFile.append(inner_output_list)\n",
        "\n",
        "    #Store the input and output from the file in a singe list\n",
        "    #so that the function can return it\n",
        "    inputANDoutput = [np.array(input_frmFile),np.array(output_frmFile)]\n",
        "    return(inputANDoutput)"
      ],
      "execution_count": 19,
      "outputs": []
    },
    {
      "cell_type": "code",
      "metadata": {
        "id": "khtyVgqP1oqO",
        "outputId": "5844b6bc-993a-47a8-9b65-07ef03c25aeb",
        "colab": {
          "base_uri": "https://localhost:8080/"
        }
      },
      "source": [
        "#Get the url link of data from the user (csv file)\n",
        "csv_url = input('Enter the url to fetch the data: ')"
      ],
      "execution_count": 20,
      "outputs": [
        {
          "output_type": "stream",
          "text": [
            "Enter the url to fetch the data: https://raw.githubusercontent.com/barnysanchez/clarku-assignment4/main/inputANDoutputs.csv\n"
          ],
          "name": "stdout"
        }
      ]
    },
    {
      "cell_type": "code",
      "metadata": {
        "id": "Iph9COOm1oqW"
      },
      "source": [
        "#Pass the data url to the function and get the input and output arrays\n",
        "inputs,outputs = get_inputANDoutput(csv_url)"
      ],
      "execution_count": 21,
      "outputs": []
    },
    {
      "cell_type": "code",
      "metadata": {
        "id": "tNGXuL6m1oqb",
        "outputId": "4a19145b-d55c-4052-ede8-916eafa15a18",
        "colab": {
          "base_uri": "https://localhost:8080/"
        }
      },
      "source": [
        "inputs"
      ],
      "execution_count": 22,
      "outputs": [
        {
          "output_type": "execute_result",
          "data": {
            "text/plain": [
              "array([[0, 0, 1],\n",
              "       [0, 1, 1],\n",
              "       [1, 0, 1],\n",
              "       [1, 0, 0]])"
            ]
          },
          "metadata": {
            "tags": []
          },
          "execution_count": 22
        }
      ]
    },
    {
      "cell_type": "code",
      "metadata": {
        "id": "MRIxEMgj1oqh",
        "outputId": "81d52301-a347-44ee-fc5e-c6647ff4d7f9",
        "colab": {
          "base_uri": "https://localhost:8080/"
        }
      },
      "source": [
        "outputs"
      ],
      "execution_count": 23,
      "outputs": [
        {
          "output_type": "execute_result",
          "data": {
            "text/plain": [
              "array([[0],\n",
              "       [0],\n",
              "       [1],\n",
              "       [1]])"
            ]
          },
          "metadata": {
            "tags": []
          },
          "execution_count": 23
        }
      ]
    },
    {
      "cell_type": "code",
      "metadata": {
        "id": "dbhDZmZD1oqo"
      },
      "source": [
        "# create NeuralNetwork class\n",
        "class NeuralNetwork:\n",
        "\n",
        "    # intialize variables in class\n",
        "    def __init__(self, inputs, outputs):\n",
        "        self.inputs  = inputs\n",
        "        self.outputs = outputs\n",
        "        # initialize weights as .50 for simplicity\n",
        "        self.weights = np.array([[.50], [.50], [.50]])\n",
        "        self.error_history = []\n",
        "        self.epoch_list = []\n",
        "        self.accuracy_history = []\n",
        "\n",
        "    #activation function ==> S(x) = 1/1+e^(-x)\n",
        "    def sigmoid(self, x, deriv=False):\n",
        "        if deriv == True:\n",
        "            return x * (1 - x)\n",
        "        return 1 / (1 + np.exp(-x))\n",
        "    \n",
        "    # data will flow through the neural network.\n",
        "    def feed_forward(self):\n",
        "        self.hidden = self.sigmoid(np.dot(self.inputs, self.weights))\n",
        "\n",
        "    # going backwards through the network to update weights\n",
        "    def backpropagation(self):\n",
        "        self.error  = self.outputs - self.hidden\n",
        "        delta = self.error * self.sigmoid(self.hidden, deriv=True)\n",
        "        self.weights += np.dot(self.inputs.T, delta)\n",
        "\n",
        "    # train the neural net for iterations\n",
        "    def train(self, epochs, modification):\n",
        "        self.error_history = []\n",
        "        self.epoch_list = []\n",
        "        self.accuracy_history = []\n",
        "        if modification.lower() == 'yes':\n",
        "            for epoch in range(epochs):\n",
        "                # flow forward and produce an output\n",
        "                self.feed_forward()\n",
        "                # go back though the network to make corrections based on the output\n",
        "                self.backpropagation()    \n",
        "                # keep track of the error history over each epoch\n",
        "                self.error_history.append(np.average(np.abs(self.error)))\n",
        "                self.epoch_list.append(epoch)\n",
        "                # keep track of the accuracy history over each epoch\n",
        "                self.accuracy_history.append(self.accuracy())\n",
        "                \n",
        "        else:\n",
        "            for epoch in range(epochs):\n",
        "                # flow forward and produce an output\n",
        "                self.feed_forward()\n",
        "                # go back though the network to make corrections based on the output\n",
        "                self.backpropagation()    \n",
        "                # keep track of the error history over each epoch\n",
        "                self.error_history.append(np.average(np.abs(self.error)))\n",
        "                self.epoch_list.append(epoch)\n",
        "\n",
        "    # function to predict output on new and unseen input data                               \n",
        "    def predict(self, new_input):\n",
        "        prediction = self.sigmoid(np.dot(new_input, self.weights))\n",
        "        return prediction\n",
        "    \n",
        "    def accuracy(self):\n",
        "        predicted_values = []\n",
        "        for i in self.inputs:\n",
        "            predicted_values.append(self.predict(i))\n",
        "        correctly_predicted = np.sum(np.argmax(predicted_values, 1) == np.argmax(outputs, 1)) \n",
        "        accu = (correctly_predicted) / len(predicted_values)\n",
        "        return accu\n",
        "\n",
        "    #Modifications for Softmax activation START\n",
        "    def softmax(self, x, deriv=False):\n",
        "        if deriv == True:\n",
        "            return x * (1 - x)\n",
        "        return np.exp(x)/sum(np.exp(x))\n",
        "    \n",
        "    def feed_forward_softmax(self):\n",
        "        self.hidden = self.softmax(np.dot(self.inputs, self.weights))\n",
        "        \n",
        "    def backpropagation_softmax(self):\n",
        "        self.error  = self.outputs - self.hidden\n",
        "        delta = self.error * self.softmax(self.hidden, deriv=False)\n",
        "        self.weights += np.dot(self.inputs.T, delta)\n",
        "    \n",
        "    def train_softmax(self, epochs):\n",
        "        self.error_history = []\n",
        "        self.epoch_list = []\n",
        "        self.accuracy_history = []\n",
        "        for epoch in range(epochs):\n",
        "                # flow forward and produce an output\n",
        "                self.feed_forward_softmax()\n",
        "                # go back though the network to make corrections based on the output\n",
        "                self.backpropagation_softmax()    \n",
        "                # keep track of the error history over each epoch\n",
        "                self.error_history.append(np.average(np.abs(self.error)))\n",
        "                self.epoch_list.append(epoch)\n",
        "    \n",
        "    def predict_softmax(self, new_input):\n",
        "        prediction = self.softmax(np.dot(new_input, self.weights))\n",
        "        return prediction\n",
        "        "
      ],
      "execution_count": 24,
      "outputs": []
    },
    {
      "cell_type": "code",
      "metadata": {
        "id": "8WRjN8WV1oqs"
      },
      "source": [
        "# create neural network   \n",
        "mymodel = NeuralNetwork(inputs, outputs)\n",
        "# training neural network on 5 epochs\n",
        "mymodel.train(5,'no')"
      ],
      "execution_count": 25,
      "outputs": []
    },
    {
      "cell_type": "code",
      "metadata": {
        "id": "HAU60xi01oqx"
      },
      "source": [
        "# creating two new examples to predict                                   \n",
        "example = np.array([[1, 1, 0]])\n",
        "example_2 = np.array([[0, 1, 0]])"
      ],
      "execution_count": 26,
      "outputs": []
    },
    {
      "cell_type": "code",
      "metadata": {
        "id": "9HIXMZP41oq2",
        "outputId": "7a5d4055-5021-4770-8113-2209c4b581f7",
        "colab": {
          "base_uri": "https://localhost:8080/"
        }
      },
      "source": [
        "# printing the predictions for two examples                                   \n",
        "print(mymodel.predict(example), ' - Correct: ', example[0][0])\n",
        "print(mymodel.predict(example_2), ' - Correct: ', example_2[0][0])"
      ],
      "execution_count": 27,
      "outputs": [
        {
          "output_type": "stream",
          "text": [
            "[[0.73432738]]  - Correct:  1\n",
            "[[0.46336586]]  - Correct:  0\n"
          ],
          "name": "stdout"
        }
      ]
    },
    {
      "cell_type": "code",
      "metadata": {
        "scrolled": true,
        "id": "PMpOXr6c1oq7",
        "outputId": "3107a733-c143-43da-edf3-1caace73fc9d",
        "colab": {
          "base_uri": "https://localhost:8080/",
          "height": 334
        }
      },
      "source": [
        "# ploting the error over entire training duration\n",
        "plt.figure(figsize=(15,5))\n",
        "plt.plot(mymodel.epoch_list, mymodel.error_history)\n",
        "plt.xlabel('Epoch')\n",
        "plt.ylabel('Error')\n",
        "plt.show()"
      ],
      "execution_count": 28,
      "outputs": [
        {
          "output_type": "display_data",
          "data": {
            "image/png": "[encoded data removed]",
            "text/plain": [
              "<Figure size 1080x360 with 1 Axes>"
            ]
          },
          "metadata": {
            "tags": [],
            "needs_background": "light"
          }
        }
      ]
    },
    {
      "cell_type": "markdown",
      "metadata": {
        "id": "075-kcEd1oq_"
      },
      "source": [
        "# SECTION 3"
      ]
    },
    {
      "cell_type": "code",
      "metadata": {
        "id": "S1tVk7a51orC"
      },
      "source": [
        "# train neural network for 50000 epochs\n",
        "mymodel.train(50000,'yes')"
      ],
      "execution_count": 29,
      "outputs": []
    },
    {
      "cell_type": "code",
      "metadata": {
        "id": "BmD9Buig1orO",
        "outputId": "737c4f60-f860-4545-81e5-c3149e5172da",
        "colab": {
          "base_uri": "https://localhost:8080/"
        }
      },
      "source": [
        "# print the predictions for both examples                                   \n",
        "print(f'{mymodel.predict(example)} - Correct: {example[0][0]}')\n",
        "print(f'{mymodel.predict(example_2)} - Correct: {example_2[0][0]}')"
      ],
      "execution_count": 30,
      "outputs": [
        {
          "output_type": "stream",
          "text": [
            "[[0.99986442]] - Correct: 1\n",
            "[[0.15431281]] - Correct: 0\n"
          ],
          "name": "stdout"
        }
      ]
    },
    {
      "cell_type": "code",
      "metadata": {
        "id": "pnvkruNH1orW",
        "outputId": "58b41c5d-509e-4d7d-d720-5c1b9ae88988",
        "colab": {
          "base_uri": "https://localhost:8080/",
          "height": 610
        }
      },
      "source": [
        "# plot the error over the entire training duration\n",
        "plt.figure(figsize=(15,10))\n",
        "plt.plot(mymodel.epoch_list, mymodel.error_history)\n",
        "plt.xlabel('Epoch')\n",
        "plt.ylabel('Error')\n",
        "plt.ylim([0,0.02])\n",
        "plt.grid(b=True)\n",
        "plt.show()"
      ],
      "execution_count": 31,
      "outputs": [
        {
          "output_type": "display_data",
          "data": {
            "image/png": "[encoded data removed]",
            "text/plain": [
              "<Figure size 1080x720 with 1 Axes>"
            ]
          },
          "metadata": {
            "tags": [],
            "needs_background": "light"
          }
        }
      ]
    },
    {
      "cell_type": "markdown",
      "metadata": {
        "id": "1o-G6bXh1orb"
      },
      "source": [
        " Above observation states that the sigmoid activation function was able acheive 99% accuracy at 5000 epochs because the error flattening tends to initiate evidently from the mark of 5000 "
      ]
    },
    {
      "cell_type": "markdown",
      "metadata": {
        "id": "r3Vs4krW1orb"
      },
      "source": [
        "# SECTION 4"
      ]
    },
    {
      "cell_type": "code",
      "metadata": {
        "id": "MaPT0_rm1orc"
      },
      "source": [
        "# train neural network using softmax activation function for 500 epochs\n",
        "mymodel.train_softmax(500)"
      ],
      "execution_count": 32,
      "outputs": []
    },
    {
      "cell_type": "code",
      "metadata": {
        "id": "wz62anC31orf",
        "outputId": "40f64baa-edbf-45b5-9915-c4c8f80bafa6",
        "colab": {
          "base_uri": "https://localhost:8080/"
        }
      },
      "source": [
        "# print the predictions using softmax activation function for both examples\n",
        "print(f'{mymodel.predict_softmax(example)} - Correct: {example[0][0]}')\n",
        "print(f'{mymodel.predict_softmax(example_2)} - Correct: {example_2[0][0]}')"
      ],
      "execution_count": 33,
      "outputs": [
        {
          "output_type": "stream",
          "text": [
            "[[1.]] - Correct: 1\n",
            "[[1.]] - Correct: 0\n"
          ],
          "name": "stdout"
        }
      ]
    },
    {
      "cell_type": "code",
      "metadata": {
        "id": "koJxBInc1orm",
        "outputId": "4764e0a5-af9f-4b44-9e3c-4128e7d20b7f",
        "colab": {
          "base_uri": "https://localhost:8080/",
          "height": 616
        }
      },
      "source": [
        "# plot the error over the entire training duration\n",
        "plt.figure(figsize=(15,10))\n",
        "plt.plot(mymodel.epoch_list,mymodel.error_history)\n",
        "plt.xlabel('Epoch')\n",
        "plt.ylabel('Error')\n",
        "plt.grid(b=True)\n",
        "plt.show()"
      ],
      "execution_count": 34,
      "outputs": [
        {
          "output_type": "display_data",
          "data": {
            "image/png": "[encoded data removed]",
            "text/plain": [
              "<Figure size 1080x720 with 1 Axes>"
            ]
          },
          "metadata": {
            "tags": [],
            "needs_background": "light"
          }
        }
      ]
    },
    {
      "cell_type": "markdown",
      "metadata": {
        "id": "uFFsDtH81orq"
      },
      "source": [
        "After 40 epochs using softmax function our model achieved 99% accuracy."
      ]
    },
    {
      "cell_type": "code",
      "metadata": {
        "id": "gE6Nkrbk1orr"
      },
      "source": [
        ""
      ],
      "execution_count": 17,
      "outputs": []
    }
  ]
}